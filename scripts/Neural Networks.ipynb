{
 "cells": [
  {
   "cell_type": "markdown",
   "metadata": {
    "collapsed": true
   },
   "source": [
    "### Linear Classifier Plot"
   ]
  },
  {
   "cell_type": "code",
   "execution_count": 4,
   "metadata": {},
   "outputs": [
    {
     "name": "stdout",
     "output_type": "stream",
     "text": [
      "[3.9, 5.9, 7.9, 9.9, 11.9, 13.9, 15.9, 17.9, 19.9, 21.9]\n"
     ]
    },
    {
     "data": {
      "image/png": "[encoded data removed]",
      "text/plain": [
       "<matplotlib.figure.Figure at 0x2ac31a82978>"
      ]
     },
     "metadata": {},
     "output_type": "display_data"
    }
   ],
   "source": [
    "import matplotlib.pyplot as plt\n",
    "\n",
    "circles = [15, 10, 15, 16, 15, 18, 20, 20]\n",
    "crosses = [3, 0.5, 1.2, 3, 2.5, 6.2, 3, 8.3]\n",
    "\n",
    "def line(m, x, d):\n",
    "    return m*x+d\n",
    "\n",
    "line1 = []\n",
    "\n",
    "for i in range(0,10):\n",
    "    line1.append(line(2,i,3.9))\n",
    "\n",
    "print(line1)\n",
    "\n",
    "plt.plot( range(0, len(circles) ), circles, \"bo\")\n",
    "plt.plot( range(0, len(crosses) ), crosses, \"rx\")\n",
    "\n",
    "plt.plot( range(0, len(line1) ), line1, \"b-\")\n",
    "\n",
    "plt.show()"
   ]
  },
  {
   "cell_type": "markdown",
   "metadata": {},
   "source": [
    "Neural Network - MPLClassifier (Multi-Layer-Perceptron)"
   ]
  },
  {
   "cell_type": "code",
   "execution_count": null,
   "metadata": {
    "collapsed": true
   },
   "outputs": [],
   "source": [
    "import sklearn.datasets\n",
    "import sklearn.neural_network.MLPClassifier\n",
    "\n",
    "#Import Data\n",
    "\n",
    "\n",
    "#Create Neural Network\n",
    "neuralnetwork = MLPClassifier()\n",
    "neuralnetwork.fit()\n",
    "y_prediction = neuralnetwork.predict()"
   ]
  }
 ],
 "metadata": {
  "kernelspec": {
   "display_name": "Python 3",
   "language": "python",
   "name": "python3"
  },
  "language_info": {
   "codemirror_mode": {
    "name": "ipython",
    "version": 3
   },
   "file_extension": ".py",
   "mimetype": "text/x-python",
   "name": "python",
   "nbconvert_exporter": "python",
   "pygments_lexer": "ipython3",
   "version": "3.6.1"
  }
 },
 "nbformat": 4,
 "nbformat_minor": 2
}
